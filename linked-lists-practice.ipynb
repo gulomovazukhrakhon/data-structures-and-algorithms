{
 "cells": [
  {
   "cell_type": "markdown",
   "id": "b10ea67a",
   "metadata": {
    "papermill": {
     "duration": 0.004412,
     "end_time": "2024-07-30T17:42:05.267617",
     "exception": false,
     "start_time": "2024-07-30T17:42:05.263205",
     "status": "completed"
    },
    "tags": []
   },
   "source": [
    "# Linked Lists Practice\n",
    "\n",
    "* **Video Tutorial for Linked Lists**: https://youtu.be/dqLHTK7RuIo?feature=shared\n",
    "* **HackerRank**: https://www.hackerrank.com/domains/data-structures?filters%5Bsubdomains%5D%5B%5D=linked-lists"
   ]
  },
  {
   "cell_type": "markdown",
   "id": "c6f6edc4",
   "metadata": {
    "papermill": {
     "duration": 0.00376,
     "end_time": "2024-07-30T17:42:05.275560",
     "exception": false,
     "start_time": "2024-07-30T17:42:05.271800",
     "status": "completed"
    },
    "tags": []
   },
   "source": [
    "## 1. Print the Elements of a Linked List\n",
    "\n",
    "Link: https://www.hackerrank.com/challenges/print-the-elements-of-a-linked-list/problem?isFullScreen=true"
   ]
  },
  {
   "cell_type": "code",
   "execution_count": 1,
   "id": "720422c0",
   "metadata": {
    "_cell_guid": "b1076dfc-b9ad-4769-8c92-a6c4dae69d19",
    "_uuid": "8f2839f25d086af736a60e9eeb907d3b93b6e0e5",
    "execution": {
     "iopub.execute_input": "2024-07-30T17:42:05.285936Z",
     "iopub.status.busy": "2024-07-30T17:42:05.285561Z",
     "iopub.status.idle": "2024-07-30T17:42:05.296920Z",
     "shell.execute_reply": "2024-07-30T17:42:05.295866Z"
    },
    "papermill": {
     "duration": 0.019269,
     "end_time": "2024-07-30T17:42:05.299382",
     "exception": false,
     "start_time": "2024-07-30T17:42:05.280113",
     "status": "completed"
    },
    "tags": []
   },
   "outputs": [],
   "source": [
    "def print_linked_list(head):\n",
    "    current = head\n",
    "    \n",
    "    while current:\n",
    "        print(str(current.data))\n",
    "        current = current.next"
   ]
  },
  {
   "cell_type": "markdown",
   "id": "727c04e0",
   "metadata": {
    "papermill": {
     "duration": 0.003768,
     "end_time": "2024-07-30T17:42:05.307478",
     "exception": false,
     "start_time": "2024-07-30T17:42:05.303710",
     "status": "completed"
    },
    "tags": []
   },
   "source": [
    "## 2. Insert a Node at the Tail of a Linked List\n",
    "\n",
    "Link: https://www.hackerrank.com/challenges/insert-a-node-at-the-tail-of-a-linked-list/problem?isFullScreen=true"
   ]
  },
  {
   "cell_type": "code",
   "execution_count": 2,
   "id": "f22678e0",
   "metadata": {
    "execution": {
     "iopub.execute_input": "2024-07-30T17:42:05.317334Z",
     "iopub.status.busy": "2024-07-30T17:42:05.316621Z",
     "iopub.status.idle": "2024-07-30T17:42:05.322265Z",
     "shell.execute_reply": "2024-07-30T17:42:05.321222Z"
    },
    "papermill": {
     "duration": 0.012992,
     "end_time": "2024-07-30T17:42:05.324473",
     "exception": false,
     "start_time": "2024-07-30T17:42:05.311481",
     "status": "completed"
    },
    "tags": []
   },
   "outputs": [],
   "source": [
    "def insert_at_tail(head, data):\n",
    "    if not head:\n",
    "        return SinglyLinkedListNode(data)\n",
    "    \n",
    "    node = head\n",
    "    \n",
    "    while node.next:\n",
    "        node = node.next\n",
    "        \n",
    "    node.next = SinglyLinkedListNode(data)\n",
    "    return head"
   ]
  },
  {
   "cell_type": "markdown",
   "id": "0f0a1693",
   "metadata": {
    "papermill": {
     "duration": 0.003934,
     "end_time": "2024-07-30T17:42:05.332587",
     "exception": false,
     "start_time": "2024-07-30T17:42:05.328653",
     "status": "completed"
    },
    "tags": []
   },
   "source": [
    "## 3. Insert a Node at the Head of a Linked List\n",
    "\n",
    "Link: https://www.hackerrank.com/challenges/insert-a-node-at-the-head-of-a-linked-list/problem?isFullScreen=true"
   ]
  },
  {
   "cell_type": "code",
   "execution_count": 3,
   "id": "f32f4c47",
   "metadata": {
    "execution": {
     "iopub.execute_input": "2024-07-30T17:42:05.342278Z",
     "iopub.status.busy": "2024-07-30T17:42:05.341878Z",
     "iopub.status.idle": "2024-07-30T17:42:05.347327Z",
     "shell.execute_reply": "2024-07-30T17:42:05.346167Z"
    },
    "papermill": {
     "duration": 0.012732,
     "end_time": "2024-07-30T17:42:05.349429",
     "exception": false,
     "start_time": "2024-07-30T17:42:05.336697",
     "status": "completed"
    },
    "tags": []
   },
   "outputs": [],
   "source": [
    "def insert_at_head(head, data):\n",
    "    new_node = SinglyLinkedListNode(data)\n",
    "    \n",
    "    if not head:\n",
    "        return new_node\n",
    "    \n",
    "    new_node.next = head\n",
    "    head = new_node\n",
    "    return head"
   ]
  },
  {
   "cell_type": "markdown",
   "id": "e390e5d6",
   "metadata": {
    "papermill": {
     "duration": 0.003689,
     "end_time": "2024-07-30T17:42:05.357187",
     "exception": false,
     "start_time": "2024-07-30T17:42:05.353498",
     "status": "completed"
    },
    "tags": []
   },
   "source": [
    "## 4. Insert a Node at a Specific Position in a Linked List\n",
    "\n",
    "Link: https://www.hackerrank.com/challenges/insert-a-node-at-a-specific-position-in-a-linked-list/problem?isFullScreen=true"
   ]
  },
  {
   "cell_type": "code",
   "execution_count": 4,
   "id": "ad068381",
   "metadata": {
    "execution": {
     "iopub.execute_input": "2024-07-30T17:42:05.366827Z",
     "iopub.status.busy": "2024-07-30T17:42:05.366445Z",
     "iopub.status.idle": "2024-07-30T17:42:05.372742Z",
     "shell.execute_reply": "2024-07-30T17:42:05.371696Z"
    },
    "papermill": {
     "duration": 0.01388,
     "end_time": "2024-07-30T17:42:05.375121",
     "exception": false,
     "start_time": "2024-07-30T17:42:05.361241",
     "status": "completed"
    },
    "tags": []
   },
   "outputs": [],
   "source": [
    "def insert_node_at_position(head, data, position):\n",
    "    pos = 0\n",
    "    new_node = SinglyLinkedListNode(data)\n",
    "    \n",
    "    if not head:\n",
    "        return new_node\n",
    "    \n",
    "    while head.next:\n",
    "        pos += 1\n",
    "        \n",
    "        if pos == position:\n",
    "            prev = head.next\n",
    "            head.next = new_node\n",
    "            new_node.next = prev\n",
    "            \n",
    "        else:\n",
    "            head = head.next\n",
    "            \n",
    "        return head"
   ]
  },
  {
   "cell_type": "markdown",
   "id": "18f3b662",
   "metadata": {
    "papermill": {
     "duration": 0.003806,
     "end_time": "2024-07-30T17:42:05.383119",
     "exception": false,
     "start_time": "2024-07-30T17:42:05.379313",
     "status": "completed"
    },
    "tags": []
   },
   "source": [
    "## 5. Delete a Node\n",
    "\n",
    "Link: https://www.hackerrank.com/challenges/delete-a-node-from-a-linked-list/problem?isFullScreen=true"
   ]
  },
  {
   "cell_type": "code",
   "execution_count": 5,
   "id": "71c15458",
   "metadata": {
    "execution": {
     "iopub.execute_input": "2024-07-30T17:42:05.392852Z",
     "iopub.status.busy": "2024-07-30T17:42:05.392498Z",
     "iopub.status.idle": "2024-07-30T17:42:05.397979Z",
     "shell.execute_reply": "2024-07-30T17:42:05.396878Z"
    },
    "papermill": {
     "duration": 0.01309,
     "end_time": "2024-07-30T17:42:05.400266",
     "exception": false,
     "start_time": "2024-07-30T17:42:05.387176",
     "status": "completed"
    },
    "tags": []
   },
   "outputs": [],
   "source": [
    "def delete_node(head, position):\n",
    "    if position == 0:\n",
    "        return head.next\n",
    "    \n",
    "    for i in range(position - 1):\n",
    "        head = head.next\n",
    "        \n",
    "    head.next = head.next.next\n",
    "    return head"
   ]
  },
  {
   "cell_type": "markdown",
   "id": "88e27585",
   "metadata": {
    "papermill": {
     "duration": 0.003771,
     "end_time": "2024-07-30T17:42:05.408223",
     "exception": false,
     "start_time": "2024-07-30T17:42:05.404452",
     "status": "completed"
    },
    "tags": []
   },
   "source": [
    "## 6. Print in Reverse\n",
    "\n",
    "Link: https://www.hackerrank.com/challenges/print-the-elements-of-a-linked-list-in-reverse/problem?isFullScreen=true"
   ]
  },
  {
   "cell_type": "code",
   "execution_count": 6,
   "id": "106c4292",
   "metadata": {
    "execution": {
     "iopub.execute_input": "2024-07-30T17:42:05.418048Z",
     "iopub.status.busy": "2024-07-30T17:42:05.417407Z",
     "iopub.status.idle": "2024-07-30T17:42:05.423548Z",
     "shell.execute_reply": "2024-07-30T17:42:05.422322Z"
    },
    "papermill": {
     "duration": 0.013591,
     "end_time": "2024-07-30T17:42:05.425807",
     "exception": false,
     "start_time": "2024-07-30T17:42:05.412216",
     "status": "completed"
    },
    "tags": []
   },
   "outputs": [],
   "source": [
    "def reversePrint(head):\n",
    "    prev = None\n",
    "    current = head\n",
    "    \n",
    "    while current is not None:\n",
    "        _next = current.next\n",
    "        current.next = prev\n",
    "        prev = current\n",
    "        current = _next\n",
    "        \n",
    "    head = prev\n",
    "    while head:\n",
    "        print(str(head.data))\n",
    "        head = head.next\n",
    "        \n",
    "    return head"
   ]
  },
  {
   "cell_type": "markdown",
   "id": "b92e5948",
   "metadata": {
    "papermill": {
     "duration": 0.003804,
     "end_time": "2024-07-30T17:42:05.433913",
     "exception": false,
     "start_time": "2024-07-30T17:42:05.430109",
     "status": "completed"
    },
    "tags": []
   },
   "source": [
    "## 7. Reverse a Linked List\n",
    "\n",
    "Link: https://www.hackerrank.com/challenges/reverse-a-linked-list/problem?isFullScreen=true"
   ]
  },
  {
   "cell_type": "code",
   "execution_count": 7,
   "id": "e2a07c83",
   "metadata": {
    "execution": {
     "iopub.execute_input": "2024-07-30T17:42:05.444176Z",
     "iopub.status.busy": "2024-07-30T17:42:05.443192Z",
     "iopub.status.idle": "2024-07-30T17:42:05.448968Z",
     "shell.execute_reply": "2024-07-30T17:42:05.447818Z"
    },
    "papermill": {
     "duration": 0.013317,
     "end_time": "2024-07-30T17:42:05.451213",
     "exception": false,
     "start_time": "2024-07-30T17:42:05.437896",
     "status": "completed"
    },
    "tags": []
   },
   "outputs": [],
   "source": [
    "def reverse(head):\n",
    "    current = head\n",
    "    prev = None\n",
    "    \n",
    "    while current is not None:\n",
    "        _next = current.next\n",
    "        current.next = prev\n",
    "        prev = current\n",
    "        current = _next\n",
    "        \n",
    "    head = prev\n",
    "    return head"
   ]
  },
  {
   "cell_type": "markdown",
   "id": "69771039",
   "metadata": {
    "papermill": {
     "duration": 0.003863,
     "end_time": "2024-07-30T17:42:05.459183",
     "exception": false,
     "start_time": "2024-07-30T17:42:05.455320",
     "status": "completed"
    },
    "tags": []
   },
   "source": [
    "## 8. Compare Two Linked Lists\n",
    "\n",
    "Link: https://www.hackerrank.com/challenges/compare-two-linked-lists/problem?isFullScreen=true"
   ]
  },
  {
   "cell_type": "code",
   "execution_count": 8,
   "id": "c354373d",
   "metadata": {
    "execution": {
     "iopub.execute_input": "2024-07-30T17:42:05.468656Z",
     "iopub.status.busy": "2024-07-30T17:42:05.468315Z",
     "iopub.status.idle": "2024-07-30T17:42:05.474219Z",
     "shell.execute_reply": "2024-07-30T17:42:05.473069Z"
    },
    "papermill": {
     "duration": 0.013415,
     "end_time": "2024-07-30T17:42:05.476572",
     "exception": false,
     "start_time": "2024-07-30T17:42:05.463157",
     "status": "completed"
    },
    "tags": []
   },
   "outputs": [],
   "source": [
    "def compare_lists(llist1, llist2):\n",
    "    \n",
    "    while llist1 and llist2:\n",
    "        if llist1.data != llist2.data:\n",
    "            return 0\n",
    "        llist1 = llist1.next\n",
    "        llist2 = llist2.next\n",
    "        \n",
    "    if llist1 is None and llist2 is None:\n",
    "        return 1\n",
    "    else:\n",
    "        return 0       "
   ]
  }
 ],
 "metadata": {
  "kaggle": {
   "accelerator": "none",
   "dataSources": [],
   "dockerImageVersionId": 30746,
   "isGpuEnabled": false,
   "isInternetEnabled": true,
   "language": "python",
   "sourceType": "notebook"
  },
  "kernelspec": {
   "display_name": "Python 3",
   "language": "python",
   "name": "python3"
  },
  "language_info": {
   "codemirror_mode": {
    "name": "ipython",
    "version": 3
   },
   "file_extension": ".py",
   "mimetype": "text/x-python",
   "name": "python",
   "nbconvert_exporter": "python",
   "pygments_lexer": "ipython3",
   "version": "3.10.13"
  },
  "papermill": {
   "default_parameters": {},
   "duration": 3.346713,
   "end_time": "2024-07-30T17:42:05.800236",
   "environment_variables": {},
   "exception": null,
   "input_path": "__notebook__.ipynb",
   "output_path": "__notebook__.ipynb",
   "parameters": {},
   "start_time": "2024-07-30T17:42:02.453523",
   "version": "2.5.0"
  }
 },
 "nbformat": 4,
 "nbformat_minor": 5
}
