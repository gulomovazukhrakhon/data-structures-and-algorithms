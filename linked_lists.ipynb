{
 "cells": [
  {
   "cell_type": "markdown",
   "metadata": {},
   "source": [
    "# Linked Lists"
   ]
  },
  {
   "cell_type": "markdown",
   "metadata": {},
   "source": [
    "## Singly Linked Lists"
   ]
  },
  {
   "cell_type": "code",
   "execution_count": 2,
   "metadata": {},
   "outputs": [],
   "source": [
    "class SinglyNode:\n",
    "\n",
    "    def __init__(self, val, next=None):\n",
    "        self.val = val\n",
    "        self.next = next\n",
    "\n",
    "    def __str__(self) -> str:\n",
    "        return str(self.val)"
   ]
  },
  {
   "cell_type": "code",
   "execution_count": 14,
   "metadata": {},
   "outputs": [
    {
     "name": "stdout",
     "output_type": "stream",
     "text": [
      "1\n"
     ]
    }
   ],
   "source": [
    "head = SinglyNode(1)\n",
    "a = SinglyNode(3)\n",
    "b = SinglyNode(4)\n",
    "c = SinglyNode(7)\n",
    "\n",
    "head.next = a\n",
    "a.next = b\n",
    "b.next = c\n",
    "\n",
    "print(head)"
   ]
  },
  {
   "cell_type": "markdown",
   "metadata": {},
   "source": [
    "### Traverse the list - O(n)"
   ]
  },
  {
   "cell_type": "code",
   "execution_count": 5,
   "metadata": {},
   "outputs": [
    {
     "name": "stdout",
     "output_type": "stream",
     "text": [
      "1\n",
      "3\n",
      "4\n",
      "7\n"
     ]
    }
   ],
   "source": [
    "curr = head\n",
    "\n",
    "while curr:\n",
    "    print(curr)\n",
    "    curr = curr.next"
   ]
  },
  {
   "cell_type": "code",
   "execution_count": 17,
   "metadata": {},
   "outputs": [],
   "source": [
    "def printLinkedList(head):\n",
    "    curr = head\n",
    "    \n",
    "    while curr:\n",
    "        curr = curr.next\n",
    "        print(str(curr))"
   ]
  },
  {
   "cell_type": "code",
   "execution_count": 18,
   "metadata": {},
   "outputs": [
    {
     "name": "stdout",
     "output_type": "stream",
     "text": [
      "3\n",
      "4\n",
      "7\n",
      "None\n"
     ]
    }
   ],
   "source": [
    "printLinkedList(head)"
   ]
  },
  {
   "cell_type": "markdown",
   "metadata": {},
   "source": [
    "### Display Linked List - O(n)"
   ]
  },
  {
   "cell_type": "code",
   "execution_count": 7,
   "metadata": {},
   "outputs": [
    {
     "name": "stdout",
     "output_type": "stream",
     "text": [
      "1 -> 3 -> 4 -> 7\n"
     ]
    }
   ],
   "source": [
    "def display(head):\n",
    "    curr = head\n",
    "    elements = []\n",
    "\n",
    "    while curr:\n",
    "        elements.append(str(curr.val))\n",
    "        curr = curr.next\n",
    "\n",
    "    print(' -> '.join(elements))\n",
    "\n",
    "display(head)"
   ]
  },
  {
   "cell_type": "markdown",
   "metadata": {},
   "source": [
    "### Search for Node value - O(n)"
   ]
  },
  {
   "cell_type": "code",
   "execution_count": 8,
   "metadata": {},
   "outputs": [
    {
     "data": {
      "text/plain": [
       "True"
      ]
     },
     "execution_count": 8,
     "metadata": {},
     "output_type": "execute_result"
    }
   ],
   "source": [
    "def search(head, val):\n",
    "    curr = head\n",
    "\n",
    "    while curr:\n",
    "        if val == curr.val:\n",
    "            return True\n",
    "        curr = curr.next\n",
    "\n",
    "    return False\n",
    "\n",
    "search(head, 7)"
   ]
  },
  {
   "cell_type": "markdown",
   "metadata": {},
   "source": [
    "## Doubly Linked Lists"
   ]
  },
  {
   "cell_type": "code",
   "execution_count": 9,
   "metadata": {},
   "outputs": [],
   "source": [
    "class DoublyNode:\n",
    "    def __init__(self, val, next=None, prev=None):\n",
    "        self.val = val\n",
    "        self.next = next\n",
    "        self.prev = prev\n",
    "\n",
    "    def __str__(self):\n",
    "        return str(self.val)"
   ]
  },
  {
   "cell_type": "code",
   "execution_count": 10,
   "metadata": {},
   "outputs": [],
   "source": [
    "head = tail = DoublyNode(1)"
   ]
  },
  {
   "cell_type": "markdown",
   "metadata": {},
   "source": [
    "### Display Doubly Linked Lists"
   ]
  },
  {
   "cell_type": "code",
   "execution_count": 11,
   "metadata": {},
   "outputs": [
    {
     "name": "stdout",
     "output_type": "stream",
     "text": [
      "1\n"
     ]
    }
   ],
   "source": [
    "def display_2(head):\n",
    "    curr = head\n",
    "    elements = []\n",
    "\n",
    "    while curr:\n",
    "        elements.append(str(curr.val))\n",
    "        curr = curr.next\n",
    "    print(' <-> '.join(elements))\n",
    "\n",
    "display_2(head)"
   ]
  },
  {
   "cell_type": "markdown",
   "metadata": {},
   "source": [
    "### Insert at the beginning - O(1)"
   ]
  },
  {
   "cell_type": "code",
   "execution_count": 12,
   "metadata": {},
   "outputs": [
    {
     "name": "stdout",
     "output_type": "stream",
     "text": [
      "3 <-> 1\n"
     ]
    }
   ],
   "source": [
    "def insert_at_beginning(head, tail, val):\n",
    "    new_node = DoublyNode(val, next=head)\n",
    "    head.prev = new_node\n",
    "    return new_node, tail\n",
    "\n",
    "head, tail = insert_at_beginning(head, tail, 3)\n",
    "display_2(head)"
   ]
  },
  {
   "cell_type": "markdown",
   "metadata": {},
   "source": [
    "### Insert at the end - O(n)"
   ]
  },
  {
   "cell_type": "code",
   "execution_count": 13,
   "metadata": {},
   "outputs": [
    {
     "name": "stdout",
     "output_type": "stream",
     "text": [
      "3 <-> 1 <-> 7\n"
     ]
    }
   ],
   "source": [
    "def insert_at_end(head, tail, val):\n",
    "    new_node = DoublyNode(val, prev=tail)\n",
    "    tail.next = new_node\n",
    "    return head, new_node\n",
    "\n",
    "head, tail = insert_at_end(head, tail, 7)\n",
    "display_2(head)"
   ]
  }
 ],
 "metadata": {
  "kernelspec": {
   "display_name": "Python 3",
   "language": "python",
   "name": "python3"
  },
  "language_info": {
   "codemirror_mode": {
    "name": "ipython",
    "version": 3
   },
   "file_extension": ".py",
   "mimetype": "text/x-python",
   "name": "python",
   "nbconvert_exporter": "python",
   "pygments_lexer": "ipython3",
   "version": "3.10.6"
  }
 },
 "nbformat": 4,
 "nbformat_minor": 2
}
