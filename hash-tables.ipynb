{
 "cells": [
  {
   "cell_type": "markdown",
   "id": "a471ae7d",
   "metadata": {
    "papermill": {
     "duration": 0.007471,
     "end_time": "2024-08-22T10:23:17.634269",
     "exception": false,
     "start_time": "2024-08-22T10:23:17.626798",
     "status": "completed"
    },
    "tags": []
   },
   "source": [
    "# Hash Tables"
   ]
  },
  {
   "cell_type": "markdown",
   "id": "11877513",
   "metadata": {
    "papermill": {
     "duration": 0.006364,
     "end_time": "2024-08-22T10:23:17.647899",
     "exception": false,
     "start_time": "2024-08-22T10:23:17.641535",
     "status": "completed"
    },
    "tags": []
   },
   "source": [
    "## Hashsets"
   ]
  },
  {
   "cell_type": "code",
   "execution_count": 1,
   "id": "522c6bc3",
   "metadata": {
    "execution": {
     "iopub.execute_input": "2024-08-22T10:23:17.663757Z",
     "iopub.status.busy": "2024-08-22T10:23:17.663225Z",
     "iopub.status.idle": "2024-08-22T10:23:17.681974Z",
     "shell.execute_reply": "2024-08-22T10:23:17.680747Z"
    },
    "papermill": {
     "duration": 0.030226,
     "end_time": "2024-08-22T10:23:17.684905",
     "exception": false,
     "start_time": "2024-08-22T10:23:17.654679",
     "status": "completed"
    },
    "tags": []
   },
   "outputs": [
    {
     "data": {
      "text/plain": [
       "set()"
      ]
     },
     "execution_count": 1,
     "metadata": {},
     "output_type": "execute_result"
    }
   ],
   "source": [
    "s = set()\n",
    "s"
   ]
  },
  {
   "cell_type": "code",
   "execution_count": 2,
   "id": "bacf1e85",
   "metadata": {
    "execution": {
     "iopub.execute_input": "2024-08-22T10:23:17.701166Z",
     "iopub.status.busy": "2024-08-22T10:23:17.700681Z",
     "iopub.status.idle": "2024-08-22T10:23:17.709003Z",
     "shell.execute_reply": "2024-08-22T10:23:17.707694Z"
    },
    "papermill": {
     "duration": 0.019793,
     "end_time": "2024-08-22T10:23:17.711688",
     "exception": false,
     "start_time": "2024-08-22T10:23:17.691895",
     "status": "completed"
    },
    "tags": []
   },
   "outputs": [
    {
     "data": {
      "text/plain": [
       "{1, 2, 3}"
      ]
     },
     "execution_count": 2,
     "metadata": {},
     "output_type": "execute_result"
    }
   ],
   "source": [
    "# Add Item into Set - O(1)\n",
    "\n",
    "s.add(1)\n",
    "s.add(2)\n",
    "s.add(3)\n",
    "s"
   ]
  },
  {
   "cell_type": "code",
   "execution_count": 3,
   "id": "10788f5d",
   "metadata": {
    "execution": {
     "iopub.execute_input": "2024-08-22T10:23:17.727732Z",
     "iopub.status.busy": "2024-08-22T10:23:17.727253Z",
     "iopub.status.idle": "2024-08-22T10:23:17.734240Z",
     "shell.execute_reply": "2024-08-22T10:23:17.733036Z"
    },
    "papermill": {
     "duration": 0.017939,
     "end_time": "2024-08-22T10:23:17.736870",
     "exception": false,
     "start_time": "2024-08-22T10:23:17.718931",
     "status": "completed"
    },
    "tags": []
   },
   "outputs": [
    {
     "name": "stdout",
     "output_type": "stream",
     "text": [
      "True\n"
     ]
    }
   ],
   "source": [
    "# Lookup if item in set O(1)\n",
    "\n",
    "if 1 in s:\n",
    "    print(True)"
   ]
  },
  {
   "cell_type": "code",
   "execution_count": 4,
   "id": "5a2a56c6",
   "metadata": {
    "execution": {
     "iopub.execute_input": "2024-08-22T10:23:17.752890Z",
     "iopub.status.busy": "2024-08-22T10:23:17.751932Z",
     "iopub.status.idle": "2024-08-22T10:23:17.760057Z",
     "shell.execute_reply": "2024-08-22T10:23:17.758832Z"
    },
    "papermill": {
     "duration": 0.018917,
     "end_time": "2024-08-22T10:23:17.762641",
     "exception": false,
     "start_time": "2024-08-22T10:23:17.743724",
     "status": "completed"
    },
    "tags": []
   },
   "outputs": [
    {
     "data": {
      "text/plain": [
       "{1, 2}"
      ]
     },
     "execution_count": 4,
     "metadata": {},
     "output_type": "execute_result"
    }
   ],
   "source": [
    "# Remove item from set O(1)\n",
    "\n",
    "s.remove(3)\n",
    "s"
   ]
  },
  {
   "cell_type": "code",
   "execution_count": 5,
   "id": "c3429c52",
   "metadata": {
    "execution": {
     "iopub.execute_input": "2024-08-22T10:23:17.779334Z",
     "iopub.status.busy": "2024-08-22T10:23:17.778393Z",
     "iopub.status.idle": "2024-08-22T10:23:17.786599Z",
     "shell.execute_reply": "2024-08-22T10:23:17.785244Z"
    },
    "papermill": {
     "duration": 0.019667,
     "end_time": "2024-08-22T10:23:17.789339",
     "exception": false,
     "start_time": "2024-08-22T10:23:17.769672",
     "status": "completed"
    },
    "tags": []
   },
   "outputs": [
    {
     "data": {
      "text/plain": [
       "{'a', 'b', 'c', 'd', 'e'}"
      ]
     },
     "execution_count": 5,
     "metadata": {},
     "output_type": "execute_result"
    }
   ],
   "source": [
    "# Set Construction - O(S) - S is the length of the string\n",
    "\n",
    "string = 'aaaaabbbbbcccccddddeeee'\n",
    "sett = set(string)\n",
    "sett"
   ]
  },
  {
   "cell_type": "code",
   "execution_count": 6,
   "id": "d8452e20",
   "metadata": {
    "execution": {
     "iopub.execute_input": "2024-08-22T10:23:17.806387Z",
     "iopub.status.busy": "2024-08-22T10:23:17.805953Z",
     "iopub.status.idle": "2024-08-22T10:23:17.813084Z",
     "shell.execute_reply": "2024-08-22T10:23:17.811714Z"
    },
    "papermill": {
     "duration": 0.01856,
     "end_time": "2024-08-22T10:23:17.815842",
     "exception": false,
     "start_time": "2024-08-22T10:23:17.797282",
     "status": "completed"
    },
    "tags": []
   },
   "outputs": [
    {
     "name": "stdout",
     "output_type": "stream",
     "text": [
      "1\n",
      "2\n"
     ]
    }
   ],
   "source": [
    "# Loop over items in set - O(n)\n",
    "for x in s:\n",
    "    print(x)"
   ]
  },
  {
   "cell_type": "markdown",
   "id": "2cfccfdb",
   "metadata": {
    "papermill": {
     "duration": 0.007182,
     "end_time": "2024-08-22T10:23:17.830578",
     "exception": false,
     "start_time": "2024-08-22T10:23:17.823396",
     "status": "completed"
    },
    "tags": []
   },
   "source": [
    "## Hashmaps - Dictionaries"
   ]
  },
  {
   "cell_type": "code",
   "execution_count": 7,
   "id": "9609a1f5",
   "metadata": {
    "execution": {
     "iopub.execute_input": "2024-08-22T10:23:17.847622Z",
     "iopub.status.busy": "2024-08-22T10:23:17.847213Z",
     "iopub.status.idle": "2024-08-22T10:23:17.855147Z",
     "shell.execute_reply": "2024-08-22T10:23:17.853736Z"
    },
    "papermill": {
     "duration": 0.019583,
     "end_time": "2024-08-22T10:23:17.857713",
     "exception": false,
     "start_time": "2024-08-22T10:23:17.838130",
     "status": "completed"
    },
    "tags": []
   },
   "outputs": [
    {
     "data": {
      "text/plain": [
       "{'zukhra': 1, 'fatima': 2, 'siro': 3}"
      ]
     },
     "execution_count": 7,
     "metadata": {},
     "output_type": "execute_result"
    }
   ],
   "source": [
    "d = {'zukhra': 1, 'fatima': 2, 'siro': 3}\n",
    "d"
   ]
  },
  {
   "cell_type": "code",
   "execution_count": 8,
   "id": "55fcae78",
   "metadata": {
    "execution": {
     "iopub.execute_input": "2024-08-22T10:23:17.874861Z",
     "iopub.status.busy": "2024-08-22T10:23:17.874369Z",
     "iopub.status.idle": "2024-08-22T10:23:17.882847Z",
     "shell.execute_reply": "2024-08-22T10:23:17.881698Z"
    },
    "papermill": {
     "duration": 0.020008,
     "end_time": "2024-08-22T10:23:17.885214",
     "exception": false,
     "start_time": "2024-08-22T10:23:17.865206",
     "status": "completed"
    },
    "tags": []
   },
   "outputs": [
    {
     "data": {
      "text/plain": [
       "{'zukhra': 1, 'fatima': 2, 'siro': 3, 'shahzoda': 4}"
      ]
     },
     "execution_count": 8,
     "metadata": {},
     "output_type": "execute_result"
    }
   ],
   "source": [
    "# Add key:val in dictionary - O(1)\n",
    "\n",
    "d['shahzoda'] = 4\n",
    "d"
   ]
  },
  {
   "cell_type": "code",
   "execution_count": 9,
   "id": "788c18f6",
   "metadata": {
    "execution": {
     "iopub.execute_input": "2024-08-22T10:23:17.902383Z",
     "iopub.status.busy": "2024-08-22T10:23:17.901929Z",
     "iopub.status.idle": "2024-08-22T10:23:17.908750Z",
     "shell.execute_reply": "2024-08-22T10:23:17.907281Z"
    },
    "papermill": {
     "duration": 0.018329,
     "end_time": "2024-08-22T10:23:17.911230",
     "exception": false,
     "start_time": "2024-08-22T10:23:17.892901",
     "status": "completed"
    },
    "tags": []
   },
   "outputs": [
    {
     "name": "stdout",
     "output_type": "stream",
     "text": [
      "True\n"
     ]
    }
   ],
   "source": [
    "# Check for presence of key in dictionaries - O(1)\n",
    "if 'zukhra'in d:\n",
    "    print(True)"
   ]
  },
  {
   "cell_type": "code",
   "execution_count": 10,
   "id": "877182eb",
   "metadata": {
    "execution": {
     "iopub.execute_input": "2024-08-22T10:23:17.928419Z",
     "iopub.status.busy": "2024-08-22T10:23:17.927951Z",
     "iopub.status.idle": "2024-08-22T10:23:17.936164Z",
     "shell.execute_reply": "2024-08-22T10:23:17.934836Z"
    },
    "papermill": {
     "duration": 0.019998,
     "end_time": "2024-08-22T10:23:17.938777",
     "exception": false,
     "start_time": "2024-08-22T10:23:17.918779",
     "status": "completed"
    },
    "tags": []
   },
   "outputs": [
    {
     "data": {
      "text/plain": [
       "1"
      ]
     },
     "execution_count": 10,
     "metadata": {},
     "output_type": "execute_result"
    }
   ],
   "source": [
    "# Check the value corresponding to a key in the dictionary - O(1)\n",
    "\n",
    "d['zukhra']"
   ]
  },
  {
   "cell_type": "code",
   "execution_count": 11,
   "id": "56ceb365",
   "metadata": {
    "execution": {
     "iopub.execute_input": "2024-08-22T10:23:17.956674Z",
     "iopub.status.busy": "2024-08-22T10:23:17.956186Z",
     "iopub.status.idle": "2024-08-22T10:23:17.963218Z",
     "shell.execute_reply": "2024-08-22T10:23:17.961765Z"
    },
    "papermill": {
     "duration": 0.019492,
     "end_time": "2024-08-22T10:23:17.966009",
     "exception": false,
     "start_time": "2024-08-22T10:23:17.946517",
     "status": "completed"
    },
    "tags": []
   },
   "outputs": [
    {
     "name": "stdout",
     "output_type": "stream",
     "text": [
      "zukhra: 1\n",
      "fatima: 2\n",
      "siro: 3\n",
      "shahzoda: 4\n"
     ]
    }
   ],
   "source": [
    "# Loop over the key:val pairs of the dictionaries - O(n)\n",
    "\n",
    "for key, val in d.items():\n",
    "    print(f'{key}: {val}')"
   ]
  },
  {
   "cell_type": "markdown",
   "id": "7f2a56ae",
   "metadata": {
    "papermill": {
     "duration": 0.007496,
     "end_time": "2024-08-22T10:23:17.981299",
     "exception": false,
     "start_time": "2024-08-22T10:23:17.973803",
     "status": "completed"
    },
    "tags": []
   },
   "source": [
    "## Defaultdict"
   ]
  },
  {
   "cell_type": "code",
   "execution_count": 12,
   "id": "c9942d4b",
   "metadata": {
    "execution": {
     "iopub.execute_input": "2024-08-22T10:23:17.999595Z",
     "iopub.status.busy": "2024-08-22T10:23:17.998490Z",
     "iopub.status.idle": "2024-08-22T10:23:18.008945Z",
     "shell.execute_reply": "2024-08-22T10:23:18.006894Z"
    },
    "papermill": {
     "duration": 0.022417,
     "end_time": "2024-08-22T10:23:18.011580",
     "exception": false,
     "start_time": "2024-08-22T10:23:17.989163",
     "status": "completed"
    },
    "tags": []
   },
   "outputs": [
    {
     "data": {
      "text/plain": [
       "0"
      ]
     },
     "execution_count": 12,
     "metadata": {},
     "output_type": "execute_result"
    }
   ],
   "source": [
    "from collections import defaultdict\n",
    "\n",
    "default = defaultdict(int)\n",
    "\n",
    "default['adam']"
   ]
  },
  {
   "cell_type": "code",
   "execution_count": 13,
   "id": "267e81de",
   "metadata": {
    "execution": {
     "iopub.execute_input": "2024-08-22T10:23:18.031483Z",
     "iopub.status.busy": "2024-08-22T10:23:18.031024Z",
     "iopub.status.idle": "2024-08-22T10:23:18.038805Z",
     "shell.execute_reply": "2024-08-22T10:23:18.037702Z"
    },
    "papermill": {
     "duration": 0.020029,
     "end_time": "2024-08-22T10:23:18.041354",
     "exception": false,
     "start_time": "2024-08-22T10:23:18.021325",
     "status": "completed"
    },
    "tags": []
   },
   "outputs": [
    {
     "data": {
      "text/plain": [
       "defaultdict(int, {'adam': 0})"
      ]
     },
     "execution_count": 13,
     "metadata": {},
     "output_type": "execute_result"
    }
   ],
   "source": [
    "default"
   ]
  },
  {
   "cell_type": "markdown",
   "id": "3a74de5c",
   "metadata": {
    "papermill": {
     "duration": 0.009178,
     "end_time": "2024-08-22T10:23:18.058776",
     "exception": false,
     "start_time": "2024-08-22T10:23:18.049598",
     "status": "completed"
    },
    "tags": []
   },
   "source": [
    "## Counter"
   ]
  },
  {
   "cell_type": "code",
   "execution_count": 14,
   "id": "43ac10c4",
   "metadata": {
    "execution": {
     "iopub.execute_input": "2024-08-22T10:23:18.078112Z",
     "iopub.status.busy": "2024-08-22T10:23:18.077628Z",
     "iopub.status.idle": "2024-08-22T10:23:18.085980Z",
     "shell.execute_reply": "2024-08-22T10:23:18.084735Z"
    },
    "papermill": {
     "duration": 0.021193,
     "end_time": "2024-08-22T10:23:18.088624",
     "exception": false,
     "start_time": "2024-08-22T10:23:18.067431",
     "status": "completed"
    },
    "tags": []
   },
   "outputs": [
    {
     "data": {
      "text/plain": [
       "Counter({'a': 5, 'b': 5, 'c': 5, 'd': 4, 'e': 4})"
      ]
     },
     "execution_count": 14,
     "metadata": {},
     "output_type": "execute_result"
    }
   ],
   "source": [
    "from collections import Counter\n",
    "\n",
    "counter = Counter(string)\n",
    "counter"
   ]
  }
 ],
 "metadata": {
  "kaggle": {
   "accelerator": "none",
   "dataSources": [],
   "dockerImageVersionId": 30746,
   "isGpuEnabled": false,
   "isInternetEnabled": true,
   "language": "python",
   "sourceType": "notebook"
  },
  "kernelspec": {
   "display_name": "Python 3",
   "language": "python",
   "name": "python3"
  },
  "language_info": {
   "codemirror_mode": {
    "name": "ipython",
    "version": 3
   },
   "file_extension": ".py",
   "mimetype": "text/x-python",
   "name": "python",
   "nbconvert_exporter": "python",
   "pygments_lexer": "ipython3",
   "version": "3.10.13"
  },
  "papermill": {
   "default_parameters": {},
   "duration": 4.724597,
   "end_time": "2024-08-22T10:23:18.620841",
   "environment_variables": {},
   "exception": null,
   "input_path": "__notebook__.ipynb",
   "output_path": "__notebook__.ipynb",
   "parameters": {},
   "start_time": "2024-08-22T10:23:13.896244",
   "version": "2.5.0"
  }
 },
 "nbformat": 4,
 "nbformat_minor": 5
}
